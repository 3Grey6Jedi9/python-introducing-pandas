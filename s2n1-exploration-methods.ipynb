{
 "cells": [
  {
   "cell_type": "markdown",
   "metadata": {},
   "source": [
    "[![Binder](https://mybinder.org/badge.svg)](https://mybinder.org/v2/gh/treehouse-projects/python-introducing-pandas/master?filepath=s2n1-exploration-methods.ipynb)"
   ]
  },
  {
   "cell_type": "markdown",
   "metadata": {},
   "source": [
    "# Exploration Methods\n",
    "When you get a CSV file from an external source, you'll want to get a feel for the data.\n",
    "\n",
    "Let's import some data and then learn how to explore it! "
   ]
  },
  {
   "cell_type": "code",
   "execution_count": 1,
   "metadata": {},
   "outputs": [
    {
     "data": {
      "text/plain": [
       "'data/users.csv'"
      ]
     },
     "execution_count": 1,
     "metadata": {},
     "output_type": "execute_result"
    }
   ],
   "source": [
    "# Setup\n",
    "import os\n",
    "import pandas as pd\n",
    "\n",
    "from utils import render\n",
    "\n",
    "# We use os.path.join because Windows uses a back slash (\\) to separate directories\n",
    "#  while others use a forward slash (/)\n",
    "users_file_name = os.path.join('data', 'users.csv')\n",
    "users_file_name"
   ]
  },
  {
   "cell_type": "markdown",
   "metadata": {},
   "source": [
    "## CSV File Exploration\n",
    "If you want to take a peek at your CSV file, you could open it in an editor. \n",
    "\n",
    "Let's just use some standard Python to see the first couple lines of the file."
   ]
  },
  {
   "cell_type": "code",
   "execution_count": 2,
   "metadata": {},
   "outputs": [
    {
     "data": {
      "text/markdown": [
       ",first_name,last_name,email,email_verified,signup_date,referral_count,balance\n"
      ],
      "text/plain": [
       "<IPython.core.display.Markdown object>"
      ]
     },
     "metadata": {},
     "output_type": "display_data"
    },
    {
     "data": {
      "text/markdown": [
       "aadams,Andrew,Adams,andrew.adamsandrew3882@yahoo.com,True,2018-02-10,4,60.2\n"
      ],
      "text/plain": [
       "<IPython.core.display.Markdown object>"
      ]
     },
     "metadata": {},
     "output_type": "display_data"
    },
    {
     "data": {
      "text/markdown": [
       "abigail,Abigail,,abigail@gmail.com,True,2018-07-25,6,35.23\n"
      ],
      "text/plain": [
       "<IPython.core.display.Markdown object>"
      ]
     },
     "metadata": {},
     "output_type": "display_data"
    },
    {
     "data": {
      "text/markdown": [
       "acosta5081,Bonnie,Acosta,bonnie@hotmail.com,False,2018-02-23,3,84.0\n"
      ],
      "text/plain": [
       "<IPython.core.display.Markdown object>"
      ]
     },
     "metadata": {},
     "output_type": "display_data"
    },
    {
     "data": {
      "text/markdown": [
       "adrian,Adrian,Sullivan,asullivan@yahoo.com,False,2018-02-15,3,70.26\n"
      ],
      "text/plain": [
       "<IPython.core.display.Markdown object>"
      ]
     },
     "metadata": {},
     "output_type": "display_data"
    }
   ],
   "source": [
    "# Open the file and print out the first 5 lines\n",
    "with open(users_file_name) as lines:\n",
    "    for _ in range(5):\n",
    "        # The `file` object is an iterator, so just get the next line \n",
    "        render(next(lines))"
   ]
  },
  {
   "cell_type": "markdown",
   "metadata": {},
   "source": [
    "Notice how the first line is a header row. It has column names in it. By default, it will be assumed that the first row is your header row.\n",
    "\n",
    "Also note how the first column of that header row is empty...the values below in that first column appear to be usernames.  They are what we want for the index.\n",
    "\n",
    "We can use the `index_col` parameter of the `pandas.read_csv` function."
   ]
  },
  {
   "cell_type": "code",
   "execution_count": 3,
   "metadata": {},
   "outputs": [],
   "source": [
    "# Create a new `DataFrame` and set the index to the first column\n",
    "users = pd.read_csv(users_file_name, index_col=0)"
   ]
  },
  {
   "cell_type": "markdown",
   "metadata": {},
   "source": [
    "## Explore your imported DataFrame"
   ]
  },
  {
   "cell_type": "markdown",
   "metadata": {},
   "source": [
    "A quick way to check and see if you got your CSV file read correctly is to use the [`DataFrame.head`](https://pandas.pydata.org/pandas-docs/stable/generated/pandas.DataFrame.head.html) method. This gives you the first **x** number of rows. It defaults to 5."
   ]
  },
  {
   "cell_type": "code",
   "execution_count": 4,
   "metadata": {},
   "outputs": [
    {
     "data": {
      "text/html": [
       "<div>\n",
       "<style scoped>\n",
       "    .dataframe tbody tr th:only-of-type {\n",
       "        vertical-align: middle;\n",
       "    }\n",
       "\n",
       "    .dataframe tbody tr th {\n",
       "        vertical-align: top;\n",
       "    }\n",
       "\n",
       "    .dataframe thead th {\n",
       "        text-align: right;\n",
       "    }\n",
       "</style>\n",
       "<table border=\"1\" class=\"dataframe\">\n",
       "  <thead>\n",
       "    <tr style=\"text-align: right;\">\n",
       "      <th></th>\n",
       "      <th>first_name</th>\n",
       "      <th>last_name</th>\n",
       "      <th>email</th>\n",
       "      <th>email_verified</th>\n",
       "      <th>signup_date</th>\n",
       "      <th>referral_count</th>\n",
       "      <th>balance</th>\n",
       "    </tr>\n",
       "  </thead>\n",
       "  <tbody>\n",
       "    <tr>\n",
       "      <th>aadams</th>\n",
       "      <td>Andrew</td>\n",
       "      <td>Adams</td>\n",
       "      <td>andrew.adamsandrew3882@yahoo.com</td>\n",
       "      <td>True</td>\n",
       "      <td>2018-02-10</td>\n",
       "      <td>4</td>\n",
       "      <td>60.20</td>\n",
       "    </tr>\n",
       "    <tr>\n",
       "      <th>abigail</th>\n",
       "      <td>Abigail</td>\n",
       "      <td>NaN</td>\n",
       "      <td>abigail@gmail.com</td>\n",
       "      <td>True</td>\n",
       "      <td>2018-07-25</td>\n",
       "      <td>6</td>\n",
       "      <td>35.23</td>\n",
       "    </tr>\n",
       "    <tr>\n",
       "      <th>acosta5081</th>\n",
       "      <td>Bonnie</td>\n",
       "      <td>Acosta</td>\n",
       "      <td>bonnie@hotmail.com</td>\n",
       "      <td>False</td>\n",
       "      <td>2018-02-23</td>\n",
       "      <td>3</td>\n",
       "      <td>84.00</td>\n",
       "    </tr>\n",
       "    <tr>\n",
       "      <th>adrian</th>\n",
       "      <td>Adrian</td>\n",
       "      <td>Sullivan</td>\n",
       "      <td>asullivan@yahoo.com</td>\n",
       "      <td>False</td>\n",
       "      <td>2018-02-15</td>\n",
       "      <td>3</td>\n",
       "      <td>70.26</td>\n",
       "    </tr>\n",
       "    <tr>\n",
       "      <th>aguirre7290</th>\n",
       "      <td>James</td>\n",
       "      <td>Aguirre</td>\n",
       "      <td>james@yahoo.com</td>\n",
       "      <td>True</td>\n",
       "      <td>2018-07-19</td>\n",
       "      <td>1</td>\n",
       "      <td>12.25</td>\n",
       "    </tr>\n",
       "  </tbody>\n",
       "</table>\n",
       "</div>"
      ],
      "text/plain": [
       "            first_name last_name                             email  \\\n",
       "aadams          Andrew     Adams  andrew.adamsandrew3882@yahoo.com   \n",
       "abigail        Abigail       NaN                 abigail@gmail.com   \n",
       "acosta5081      Bonnie    Acosta                bonnie@hotmail.com   \n",
       "adrian          Adrian  Sullivan               asullivan@yahoo.com   \n",
       "aguirre7290      James   Aguirre                   james@yahoo.com   \n",
       "\n",
       "             email_verified signup_date  referral_count  balance  \n",
       "aadams                 True  2018-02-10               4    60.20  \n",
       "abigail                True  2018-07-25               6    35.23  \n",
       "acosta5081            False  2018-02-23               3    84.00  \n",
       "adrian                False  2018-02-15               3    70.26  \n",
       "aguirre7290            True  2018-07-19               1    12.25  "
      ]
     },
     "execution_count": 4,
     "metadata": {},
     "output_type": "execute_result"
    }
   ],
   "source": [
    "users.head()"
   ]
  },
  {
   "cell_type": "markdown",
   "metadata": {},
   "source": [
    "Nice! We got it.  So let's see how many rows we have.  There are a couple of ways."
   ]
  },
  {
   "cell_type": "code",
   "execution_count": 5,
   "metadata": {},
   "outputs": [
    {
     "data": {
      "text/plain": [
       "463"
      ]
     },
     "execution_count": 5,
     "metadata": {},
     "output_type": "execute_result"
    }
   ],
   "source": [
    "# Pythonic approach still works\n",
    "len(users)"
   ]
  },
  {
   "cell_type": "markdown",
   "metadata": {},
   "source": [
    "*Side note*: This length call is quick. Under the covers this `DataFrame.__len__` call is actually performing a `len(df.index)`, counting the rows by using the index. You might see older code that uses the style of `len(df.index)` to get a count of rows. As of pandas version 0.11, `len(df)` is the same as `len(df.index)`.  "
   ]
  },
  {
   "cell_type": "markdown",
   "metadata": {},
   "source": [
    "The `DataFrame.shape` property works just like `np.array.shape` does. This is the length of each axis of your data frame, rows and columns."
   ]
  },
  {
   "cell_type": "code",
   "execution_count": 6,
   "metadata": {},
   "outputs": [
    {
     "data": {
      "text/plain": [
       "(463, 7)"
      ]
     },
     "execution_count": 6,
     "metadata": {},
     "output_type": "execute_result"
    }
   ],
   "source": [
    "users.shape"
   ]
  },
  {
   "cell_type": "markdown",
   "metadata": {},
   "source": [
    "### Explore from a bird's eye view"
   ]
  },
  {
   "cell_type": "markdown",
   "metadata": {},
   "source": [
    "The `DataFrame.count` method will count up each column for how many non-empty values we have.  Looks like most of our columns are present in all of our rows, but looks like **last_name** has some `np.nan` values.  \n",
    "\n",
    "The `count` method is data missing aware."
   ]
  },
  {
   "cell_type": "code",
   "execution_count": 7,
   "metadata": {},
   "outputs": [
    {
     "data": {
      "text/plain": [
       "first_name        463\n",
       "last_name         421\n",
       "email             463\n",
       "email_verified    463\n",
       "signup_date       463\n",
       "referral_count    463\n",
       "balance           463\n",
       "dtype: int64"
      ]
     },
     "execution_count": 7,
     "metadata": {},
     "output_type": "execute_result"
    }
   ],
   "source": [
    "users.count()"
   ]
  },
  {
   "cell_type": "markdown",
   "metadata": {},
   "source": [
    "Remember that a `DataFrame` has the ability to contain multiple data types of [`dtypes`](https://pandas.pydata.org/pandas-docs/stable/basics.html#basics-dtypes).\n",
    "\n",
    "You can use the `DataFrame.dtypes` to see the `dtype` of each column."
   ]
  },
  {
   "cell_type": "code",
   "execution_count": 8,
   "metadata": {},
   "outputs": [
    {
     "data": {
      "text/plain": [
       "first_name         object\n",
       "last_name          object\n",
       "email              object\n",
       "email_verified       bool\n",
       "signup_date        object\n",
       "referral_count      int64\n",
       "balance           float64\n",
       "dtype: object"
      ]
     },
     "execution_count": 8,
     "metadata": {},
     "output_type": "execute_result"
    }
   ],
   "source": [
    "users.dtypes"
   ]
  },
  {
   "cell_type": "markdown",
   "metadata": {},
   "source": [
    "As you can see, most of the data types of these columns where inferred, or assumed, correctly.  See how automatically **`email_verified`** is `bool`, **`referral_count`** is an integer, and **`balance`** a float. This happened when we used `pd.read_csv`. \n",
    "\n",
    "One thing to note though that the **`signup_date`** field is an `object` and not a `datetime`. You can convert these druing or after import if you need to, and we'll do some of that later in this course."
   ]
  },
  {
   "cell_type": "markdown",
   "metadata": {},
   "source": [
    "#### Describe your data\n",
    "The `DataFrame.describe` method is a great way to get a vibe for all numeric data in your data frame.  You'll see lot's of different aggregations."
   ]
  },
  {
   "cell_type": "code",
   "execution_count": 9,
   "metadata": {},
   "outputs": [
    {
     "data": {
      "text/html": [
       "<div>\n",
       "<style scoped>\n",
       "    .dataframe tbody tr th:only-of-type {\n",
       "        vertical-align: middle;\n",
       "    }\n",
       "\n",
       "    .dataframe tbody tr th {\n",
       "        vertical-align: top;\n",
       "    }\n",
       "\n",
       "    .dataframe thead th {\n",
       "        text-align: right;\n",
       "    }\n",
       "</style>\n",
       "<table border=\"1\" class=\"dataframe\">\n",
       "  <thead>\n",
       "    <tr style=\"text-align: right;\">\n",
       "      <th></th>\n",
       "      <th>referral_count</th>\n",
       "      <th>balance</th>\n",
       "    </tr>\n",
       "  </thead>\n",
       "  <tbody>\n",
       "    <tr>\n",
       "      <th>count</th>\n",
       "      <td>463.000000</td>\n",
       "      <td>463.000000</td>\n",
       "    </tr>\n",
       "    <tr>\n",
       "      <th>mean</th>\n",
       "      <td>3.544276</td>\n",
       "      <td>49.260756</td>\n",
       "    </tr>\n",
       "    <tr>\n",
       "      <th>std</th>\n",
       "      <td>2.272955</td>\n",
       "      <td>29.620366</td>\n",
       "    </tr>\n",
       "    <tr>\n",
       "      <th>min</th>\n",
       "      <td>0.000000</td>\n",
       "      <td>0.030000</td>\n",
       "    </tr>\n",
       "    <tr>\n",
       "      <th>25%</th>\n",
       "      <td>2.000000</td>\n",
       "      <td>23.150000</td>\n",
       "    </tr>\n",
       "    <tr>\n",
       "      <th>50%</th>\n",
       "      <td>3.000000</td>\n",
       "      <td>50.870000</td>\n",
       "    </tr>\n",
       "    <tr>\n",
       "      <th>75%</th>\n",
       "      <td>5.000000</td>\n",
       "      <td>74.010000</td>\n",
       "    </tr>\n",
       "    <tr>\n",
       "      <th>max</th>\n",
       "      <td>7.000000</td>\n",
       "      <td>99.230000</td>\n",
       "    </tr>\n",
       "  </tbody>\n",
       "</table>\n",
       "</div>"
      ],
      "text/plain": [
       "       referral_count     balance\n",
       "count      463.000000  463.000000\n",
       "mean         3.544276   49.260756\n",
       "std          2.272955   29.620366\n",
       "min          0.000000    0.030000\n",
       "25%          2.000000   23.150000\n",
       "50%          3.000000   50.870000\n",
       "75%          5.000000   74.010000\n",
       "max          7.000000   99.230000"
      ]
     },
     "execution_count": 9,
     "metadata": {},
     "output_type": "execute_result"
    }
   ],
   "source": [
    "users.describe()"
   ]
  },
  {
   "cell_type": "markdown",
   "metadata": {},
   "source": [
    "Most of these aggregations are available by themselves as well"
   ]
  },
  {
   "cell_type": "code",
   "execution_count": 10,
   "metadata": {},
   "outputs": [
    {
     "data": {
      "text/plain": [
       "email_verified     0.827214\n",
       "referral_count     3.544276\n",
       "balance           49.260756\n",
       "dtype: float64"
      ]
     },
     "execution_count": 10,
     "metadata": {},
     "output_type": "execute_result"
    }
   ],
   "source": [
    "# The mean or average\n",
    "users.mean()"
   ]
  },
  {
   "cell_type": "code",
   "execution_count": 11,
   "metadata": {},
   "outputs": [
    {
     "data": {
      "text/plain": [
       "email_verified     0.378471\n",
       "referral_count     2.272955\n",
       "balance           29.620366\n",
       "dtype: float64"
      ]
     },
     "execution_count": 11,
     "metadata": {},
     "output_type": "execute_result"
    }
   ],
   "source": [
    "# Standard deviation\n",
    "users.std()"
   ]
  },
  {
   "cell_type": "code",
   "execution_count": 12,
   "metadata": {},
   "outputs": [
    {
     "data": {
      "text/plain": [
       "first_name                    Aaron\n",
       "email             abigail@gmail.com\n",
       "email_verified                False\n",
       "signup_date              2018-01-02\n",
       "referral_count                    0\n",
       "balance                        0.03\n",
       "dtype: object"
      ]
     },
     "execution_count": 12,
     "metadata": {},
     "output_type": "execute_result"
    }
   ],
   "source": [
    "# The minimum of each column\n",
    "users.min()"
   ]
  },
  {
   "cell_type": "code",
   "execution_count": 13,
   "metadata": {},
   "outputs": [
    {
     "data": {
      "text/plain": [
       "first_name                          Yesenia\n",
       "email             yang899@james-nichols.com\n",
       "email_verified                         True\n",
       "signup_date                      2018-09-11\n",
       "referral_count                            7\n",
       "balance                               99.23\n",
       "dtype: object"
      ]
     },
     "execution_count": 13,
     "metadata": {},
     "output_type": "execute_result"
    }
   ],
   "source": [
    "# The maximum of each column\n",
    "users.max()"
   ]
  },
  {
   "cell_type": "markdown",
   "metadata": {},
   "source": [
    "### Rearrange your data\n",
    "You can create a new `DataFrame` that is sorted by using the [`sort_values`](https://pandas.pydata.org/pandas-docs/stable/generated/pandas.DataFrame.sort_values.html) method.\n",
    "\n",
    "Let's sort the DataFrame so that the user with the highest **`balance`** is at the top. By default, ascending order is assumend, you can change that by setting the `ascending` keyword argument to `False`."
   ]
  },
  {
   "cell_type": "code",
   "execution_count": 14,
   "metadata": {},
   "outputs": [
    {
     "data": {
      "text/html": [
       "<div>\n",
       "<style scoped>\n",
       "    .dataframe tbody tr th:only-of-type {\n",
       "        vertical-align: middle;\n",
       "    }\n",
       "\n",
       "    .dataframe tbody tr th {\n",
       "        vertical-align: top;\n",
       "    }\n",
       "\n",
       "    .dataframe thead th {\n",
       "        text-align: right;\n",
       "    }\n",
       "</style>\n",
       "<table border=\"1\" class=\"dataframe\">\n",
       "  <thead>\n",
       "    <tr style=\"text-align: right;\">\n",
       "      <th></th>\n",
       "      <th>first_name</th>\n",
       "      <th>last_name</th>\n",
       "      <th>email</th>\n",
       "      <th>email_verified</th>\n",
       "      <th>signup_date</th>\n",
       "      <th>referral_count</th>\n",
       "      <th>balance</th>\n",
       "    </tr>\n",
       "  </thead>\n",
       "  <tbody>\n",
       "    <tr>\n",
       "      <th>hannah.murphyhannah706</th>\n",
       "      <td>Hannah</td>\n",
       "      <td>Murphy</td>\n",
       "      <td>hannah.murphyhannah6472@yahoo.com</td>\n",
       "      <td>False</td>\n",
       "      <td>2018-06-01</td>\n",
       "      <td>7</td>\n",
       "      <td>99.23</td>\n",
       "    </tr>\n",
       "    <tr>\n",
       "      <th>anthony.riceanthony8736</th>\n",
       "      <td>Anthony</td>\n",
       "      <td>Rice</td>\n",
       "      <td>anthony.riceanthony5517@yahoo.com</td>\n",
       "      <td>True</td>\n",
       "      <td>2018-01-04</td>\n",
       "      <td>7</td>\n",
       "      <td>99.21</td>\n",
       "    </tr>\n",
       "    <tr>\n",
       "      <th>shea</th>\n",
       "      <td>Miguel</td>\n",
       "      <td>Shea</td>\n",
       "      <td>miguel@hotmail.com</td>\n",
       "      <td>True</td>\n",
       "      <td>2018-07-28</td>\n",
       "      <td>7</td>\n",
       "      <td>99.17</td>\n",
       "    </tr>\n",
       "    <tr>\n",
       "      <th>frank</th>\n",
       "      <td>Kristi</td>\n",
       "      <td>Frank</td>\n",
       "      <td>kristi.frankkristi5878@yahoo.com</td>\n",
       "      <td>True</td>\n",
       "      <td>2018-01-03</td>\n",
       "      <td>5</td>\n",
       "      <td>98.90</td>\n",
       "    </tr>\n",
       "    <tr>\n",
       "      <th>kmcdowell</th>\n",
       "      <td>Kayla</td>\n",
       "      <td>Mcdowell</td>\n",
       "      <td>kmcdowell@yahoo.com</td>\n",
       "      <td>True</td>\n",
       "      <td>2018-08-01</td>\n",
       "      <td>4</td>\n",
       "      <td>98.40</td>\n",
       "    </tr>\n",
       "  </tbody>\n",
       "</table>\n",
       "</div>"
      ],
      "text/plain": [
       "                        first_name last_name  \\\n",
       "hannah.murphyhannah706      Hannah    Murphy   \n",
       "anthony.riceanthony8736    Anthony      Rice   \n",
       "shea                        Miguel      Shea   \n",
       "frank                       Kristi     Frank   \n",
       "kmcdowell                    Kayla  Mcdowell   \n",
       "\n",
       "                                                     email  email_verified  \\\n",
       "hannah.murphyhannah706   hannah.murphyhannah6472@yahoo.com           False   \n",
       "anthony.riceanthony8736  anthony.riceanthony5517@yahoo.com            True   \n",
       "shea                                    miguel@hotmail.com            True   \n",
       "frank                     kristi.frankkristi5878@yahoo.com            True   \n",
       "kmcdowell                              kmcdowell@yahoo.com            True   \n",
       "\n",
       "                        signup_date  referral_count  balance  \n",
       "hannah.murphyhannah706   2018-06-01               7    99.23  \n",
       "anthony.riceanthony8736  2018-01-04               7    99.21  \n",
       "shea                     2018-07-28               7    99.17  \n",
       "frank                    2018-01-03               5    98.90  \n",
       "kmcdowell                2018-08-01               4    98.40  "
      ]
     },
     "execution_count": 14,
     "metadata": {},
     "output_type": "execute_result"
    }
   ],
   "source": [
    "users.sort_values(by='balance', ascending=False).head()"
   ]
  },
  {
   "cell_type": "markdown",
   "metadata": {},
   "source": [
    "You'll notice that `sort_values` call actually created a new `DataFrame`. If you want to permanently change the sort from the default (sorted by index), you can pass `True` as an argument to the `inplace` keyword parameter."
   ]
  },
  {
   "cell_type": "code",
   "execution_count": 15,
   "metadata": {},
   "outputs": [
    {
     "data": {
      "text/html": [
       "<div>\n",
       "<style scoped>\n",
       "    .dataframe tbody tr th:only-of-type {\n",
       "        vertical-align: middle;\n",
       "    }\n",
       "\n",
       "    .dataframe tbody tr th {\n",
       "        vertical-align: top;\n",
       "    }\n",
       "\n",
       "    .dataframe thead th {\n",
       "        text-align: right;\n",
       "    }\n",
       "</style>\n",
       "<table border=\"1\" class=\"dataframe\">\n",
       "  <thead>\n",
       "    <tr style=\"text-align: right;\">\n",
       "      <th></th>\n",
       "      <th>first_name</th>\n",
       "      <th>last_name</th>\n",
       "      <th>email</th>\n",
       "      <th>email_verified</th>\n",
       "      <th>signup_date</th>\n",
       "      <th>referral_count</th>\n",
       "      <th>balance</th>\n",
       "    </tr>\n",
       "  </thead>\n",
       "  <tbody>\n",
       "    <tr>\n",
       "      <th>acosta5081</th>\n",
       "      <td>Bonnie</td>\n",
       "      <td>Acosta</td>\n",
       "      <td>bonnie@hotmail.com</td>\n",
       "      <td>False</td>\n",
       "      <td>2018-02-23</td>\n",
       "      <td>3</td>\n",
       "      <td>84.00</td>\n",
       "    </tr>\n",
       "    <tr>\n",
       "      <th>aadams</th>\n",
       "      <td>Andrew</td>\n",
       "      <td>Adams</td>\n",
       "      <td>andrew.adamsandrew3882@yahoo.com</td>\n",
       "      <td>True</td>\n",
       "      <td>2018-02-10</td>\n",
       "      <td>4</td>\n",
       "      <td>60.20</td>\n",
       "    </tr>\n",
       "    <tr>\n",
       "      <th>tammy</th>\n",
       "      <td>Tammy</td>\n",
       "      <td>Adams</td>\n",
       "      <td>adams@gmail.com</td>\n",
       "      <td>True</td>\n",
       "      <td>2018-04-08</td>\n",
       "      <td>3</td>\n",
       "      <td>22.54</td>\n",
       "    </tr>\n",
       "    <tr>\n",
       "      <th>aguirre7290</th>\n",
       "      <td>James</td>\n",
       "      <td>Aguirre</td>\n",
       "      <td>james@yahoo.com</td>\n",
       "      <td>True</td>\n",
       "      <td>2018-07-19</td>\n",
       "      <td>1</td>\n",
       "      <td>12.25</td>\n",
       "    </tr>\n",
       "    <tr>\n",
       "      <th>alexander</th>\n",
       "      <td>Alec</td>\n",
       "      <td>Alexander</td>\n",
       "      <td>alec.alexanderalec1250@hotmail.com</td>\n",
       "      <td>True</td>\n",
       "      <td>2018-03-24</td>\n",
       "      <td>6</td>\n",
       "      <td>55.49</td>\n",
       "    </tr>\n",
       "  </tbody>\n",
       "</table>\n",
       "</div>"
      ],
      "text/plain": [
       "            first_name  last_name                               email  \\\n",
       "acosta5081      Bonnie     Acosta                  bonnie@hotmail.com   \n",
       "aadams          Andrew      Adams    andrew.adamsandrew3882@yahoo.com   \n",
       "tammy            Tammy      Adams                     adams@gmail.com   \n",
       "aguirre7290      James    Aguirre                     james@yahoo.com   \n",
       "alexander         Alec  Alexander  alec.alexanderalec1250@hotmail.com   \n",
       "\n",
       "             email_verified signup_date  referral_count  balance  \n",
       "acosta5081            False  2018-02-23               3    84.00  \n",
       "aadams                 True  2018-02-10               4    60.20  \n",
       "tammy                  True  2018-04-08               3    22.54  \n",
       "aguirre7290            True  2018-07-19               1    12.25  \n",
       "alexander              True  2018-03-24               6    55.49  "
      ]
     },
     "execution_count": 15,
     "metadata": {},
     "output_type": "execute_result"
    }
   ],
   "source": [
    "# Sort first by last_name and then first_name. By default, np.nan show up at the end\n",
    "users.sort_values(by=['last_name', 'first_name'], inplace=True)\n",
    "# Sort order is now changed\n",
    "users.head()"
   ]
  }
 ],
 "metadata": {
  "kernelspec": {
   "display_name": "Python 3",
   "language": "python",
   "name": "python3"
  },
  "language_info": {
   "codemirror_mode": {
    "name": "ipython",
    "version": 3
   },
   "file_extension": ".py",
   "mimetype": "text/x-python",
   "name": "python",
   "nbconvert_exporter": "python",
   "pygments_lexer": "ipython3",
   "version": "3.7.0"
  }
 },
 "nbformat": 4,
 "nbformat_minor": 2
}
