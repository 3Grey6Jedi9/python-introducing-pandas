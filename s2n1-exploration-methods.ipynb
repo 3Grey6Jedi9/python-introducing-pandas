{
 "cells": [
  {
   "cell_type": "markdown",
   "metadata": {},
   "source": [
    "[![Binder](https://mybinder.org/badge.svg)](https://mybinder.org/v2/gh/treehouse-projects/python-introducing-pandas/master?filepath=s2n1-exploration-methods.ipynb)"
   ]
  },
  {
   "cell_type": "markdown",
   "metadata": {},
   "source": [
    "# Exploration Methods\n",
    "When you get a CSV file from an external source, you'll want to get a feel for the data.\n",
    "\n",
    "Let's import some data and then learn how to explore it! "
   ]
  },
  {
   "cell_type": "code",
   "execution_count": 1,
   "metadata": {},
   "outputs": [
    {
     "data": {
      "text/plain": [
       "'data/users.csv'"
      ]
     },
     "execution_count": 1,
     "metadata": {},
     "output_type": "execute_result"
    }
   ],
   "source": [
    "# Setup\n",
    "import os\n",
    "import pandas as pd\n",
    "\n",
    "from utils import render\n",
    "\n",
    "# We use os.path.join because Windows uses a back slash (\\) to separate directories\n",
    "#  while others use a forward slash (/)\n",
    "users_file_name = os.path.join('data', 'users.csv')\n",
    "users_file_name"
   ]
  },
  {
   "cell_type": "markdown",
   "metadata": {},
   "source": [
    "## CSV File Exploration\n",
    "If you want to take a peek at your CSV file, you could open it in an editor. \n",
    "\n",
    "Let's just use some standard Python to see the first couple lines of the file."
   ]
  },
  {
   "cell_type": "code",
   "execution_count": 2,
   "metadata": {},
   "outputs": [
    {
     "data": {
      "text/markdown": [
       ",first_name,last_name,email,email_verified,signup_date,referral_count,balance\n"
      ],
      "text/plain": [
       "<IPython.core.display.Markdown object>"
      ]
     },
     "metadata": {},
     "output_type": "display_data"
    },
    {
     "data": {
      "text/markdown": [
       "aalexander,Adam,Alexander,alexander@gmail.com,True,2018-08-22,0,31.68\n"
      ],
      "text/plain": [
       "<IPython.core.display.Markdown object>"
      ]
     },
     "metadata": {},
     "output_type": "display_data"
    },
    {
     "data": {
      "text/markdown": [
       "aaron.grimesaaron3543,Aaron,Grimes,aaron@gmail.com,True,2018-06-18,7,53.3\n"
      ],
      "text/plain": [
       "<IPython.core.display.Markdown object>"
      ]
     },
     "metadata": {},
     "output_type": "display_data"
    },
    {
     "data": {
      "text/markdown": [
       "aaron.vargasaaron772,Aaron,Vargas,aaron@hotmail.com,False,2018-04-26,7,95.8\n"
      ],
      "text/plain": [
       "<IPython.core.display.Markdown object>"
      ]
     },
     "metadata": {},
     "output_type": "display_data"
    },
    {
     "data": {
      "text/markdown": [
       "adam,Adam,Roberts,adam@gmail.com,True,2018-07-13,5,35.07\n"
      ],
      "text/plain": [
       "<IPython.core.display.Markdown object>"
      ]
     },
     "metadata": {},
     "output_type": "display_data"
    }
   ],
   "source": [
    "# Open the file and print out the first 5 lines\n",
    "with open(users_file_name) as lines:\n",
    "    for _ in range(5):\n",
    "        # The `file` object is an iterator, so just get the next line \n",
    "        render(next(lines))"
   ]
  },
  {
   "cell_type": "markdown",
   "metadata": {},
   "source": [
    "Notice how the first line is a header row. It has column names in it. By default, it will be assumed that the first row is your header row.\n",
    "\n",
    "Also note how the first column of that header row is empty...the values below in that first column appear to be usernames.  They are what we want for the index.\n",
    "\n",
    "We can use the `index_col` parameter of the `pandas.read_csv` function."
   ]
  },
  {
   "cell_type": "code",
   "execution_count": 3,
   "metadata": {},
   "outputs": [],
   "source": [
    "# Create a new `DataFrame` and set the index to the first column\n",
    "users = pd.read_csv(users_file_name, index_col=0)"
   ]
  },
  {
   "cell_type": "markdown",
   "metadata": {},
   "source": [
    "## Explore your imported DataFrame"
   ]
  },
  {
   "cell_type": "markdown",
   "metadata": {},
   "source": [
    "A quick way to check and see if you got your CSV file read correctly is to use the [`DataFrame.head`](https://pandas.pydata.org/pandas-docs/stable/generated/pandas.DataFrame.head.html) method. This gives you the first **x** number of rows. It defaults to 5."
   ]
  },
  {
   "cell_type": "code",
   "execution_count": 4,
   "metadata": {},
   "outputs": [
    {
     "data": {
      "text/html": [
       "<div>\n",
       "<style scoped>\n",
       "    .dataframe tbody tr th:only-of-type {\n",
       "        vertical-align: middle;\n",
       "    }\n",
       "\n",
       "    .dataframe tbody tr th {\n",
       "        vertical-align: top;\n",
       "    }\n",
       "\n",
       "    .dataframe thead th {\n",
       "        text-align: right;\n",
       "    }\n",
       "</style>\n",
       "<table border=\"1\" class=\"dataframe\">\n",
       "  <thead>\n",
       "    <tr style=\"text-align: right;\">\n",
       "      <th></th>\n",
       "      <th>first_name</th>\n",
       "      <th>last_name</th>\n",
       "      <th>email</th>\n",
       "      <th>email_verified</th>\n",
       "      <th>signup_date</th>\n",
       "      <th>referral_count</th>\n",
       "      <th>balance</th>\n",
       "    </tr>\n",
       "  </thead>\n",
       "  <tbody>\n",
       "    <tr>\n",
       "      <th>aalexander</th>\n",
       "      <td>Adam</td>\n",
       "      <td>Alexander</td>\n",
       "      <td>alexander@gmail.com</td>\n",
       "      <td>True</td>\n",
       "      <td>2018-08-22</td>\n",
       "      <td>0</td>\n",
       "      <td>31.68</td>\n",
       "    </tr>\n",
       "    <tr>\n",
       "      <th>aaron.grimesaaron3543</th>\n",
       "      <td>Aaron</td>\n",
       "      <td>Grimes</td>\n",
       "      <td>aaron@gmail.com</td>\n",
       "      <td>True</td>\n",
       "      <td>2018-06-18</td>\n",
       "      <td>7</td>\n",
       "      <td>53.30</td>\n",
       "    </tr>\n",
       "    <tr>\n",
       "      <th>aaron.vargasaaron772</th>\n",
       "      <td>Aaron</td>\n",
       "      <td>Vargas</td>\n",
       "      <td>aaron@hotmail.com</td>\n",
       "      <td>False</td>\n",
       "      <td>2018-04-26</td>\n",
       "      <td>7</td>\n",
       "      <td>95.80</td>\n",
       "    </tr>\n",
       "    <tr>\n",
       "      <th>adam</th>\n",
       "      <td>Adam</td>\n",
       "      <td>Roberts</td>\n",
       "      <td>adam@gmail.com</td>\n",
       "      <td>True</td>\n",
       "      <td>2018-07-13</td>\n",
       "      <td>5</td>\n",
       "      <td>35.07</td>\n",
       "    </tr>\n",
       "    <tr>\n",
       "      <th>agregory</th>\n",
       "      <td>Anthony</td>\n",
       "      <td>Gregory</td>\n",
       "      <td>gregory4121@yahoo.com</td>\n",
       "      <td>True</td>\n",
       "      <td>2018-01-16</td>\n",
       "      <td>2</td>\n",
       "      <td>97.00</td>\n",
       "    </tr>\n",
       "  </tbody>\n",
       "</table>\n",
       "</div>"
      ],
      "text/plain": [
       "                      first_name  last_name                  email  \\\n",
       "aalexander                  Adam  Alexander    alexander@gmail.com   \n",
       "aaron.grimesaaron3543      Aaron     Grimes        aaron@gmail.com   \n",
       "aaron.vargasaaron772       Aaron     Vargas      aaron@hotmail.com   \n",
       "adam                        Adam    Roberts         adam@gmail.com   \n",
       "agregory                 Anthony    Gregory  gregory4121@yahoo.com   \n",
       "\n",
       "                       email_verified signup_date  referral_count  balance  \n",
       "aalexander                       True  2018-08-22               0    31.68  \n",
       "aaron.grimesaaron3543            True  2018-06-18               7    53.30  \n",
       "aaron.vargasaaron772            False  2018-04-26               7    95.80  \n",
       "adam                             True  2018-07-13               5    35.07  \n",
       "agregory                         True  2018-01-16               2    97.00  "
      ]
     },
     "execution_count": 4,
     "metadata": {},
     "output_type": "execute_result"
    }
   ],
   "source": [
    "users.head()"
   ]
  },
  {
   "cell_type": "markdown",
   "metadata": {},
   "source": [
    "Nice! We got it.  So let's see how many rows we have.  There are a couple of ways."
   ]
  },
  {
   "cell_type": "code",
   "execution_count": 5,
   "metadata": {},
   "outputs": [
    {
     "data": {
      "text/plain": [
       "453"
      ]
     },
     "execution_count": 5,
     "metadata": {},
     "output_type": "execute_result"
    }
   ],
   "source": [
    "# Pythonic approach still works\n",
    "len(users)"
   ]
  },
  {
   "cell_type": "markdown",
   "metadata": {},
   "source": [
    "*Side note*: This length call is quick. Under the covers this `DataFrame.__len__` call is actually performing a `len(df.index)`, counting the rows by using the index. You might see older code that uses the style of `len(df.index)` to get a count of rows. As of pandas version 0.11, `len(df)` is the same as `len(df.index)`.  "
   ]
  },
  {
   "cell_type": "markdown",
   "metadata": {},
   "source": [
    "The `DataFrame.shape` property works just like `np.array.shape` does. This is the length of each axis of your data frame, rows and columns."
   ]
  },
  {
   "cell_type": "code",
   "execution_count": 6,
   "metadata": {},
   "outputs": [
    {
     "data": {
      "text/plain": [
       "(453, 7)"
      ]
     },
     "execution_count": 6,
     "metadata": {},
     "output_type": "execute_result"
    }
   ],
   "source": [
    "users.shape"
   ]
  },
  {
   "cell_type": "markdown",
   "metadata": {},
   "source": [
    "### Explore from a bird's eye view"
   ]
  },
  {
   "cell_type": "markdown",
   "metadata": {},
   "source": [
    "The `DataFrame.count` method will count up each column for how many non-empty values we have.  Looks like most of our columns are present in all of our rows, but looks like **last_name** has some `np.nan` values.  \n",
    "\n",
    "The `count` method is data missing aware."
   ]
  },
  {
   "cell_type": "code",
   "execution_count": 7,
   "metadata": {},
   "outputs": [
    {
     "data": {
      "text/plain": [
       "first_name        453\n",
       "last_name         415\n",
       "email             453\n",
       "email_verified    453\n",
       "signup_date       453\n",
       "referral_count    453\n",
       "balance           453\n",
       "dtype: int64"
      ]
     },
     "execution_count": 7,
     "metadata": {},
     "output_type": "execute_result"
    }
   ],
   "source": [
    "users.count()"
   ]
  },
  {
   "cell_type": "markdown",
   "metadata": {},
   "source": [
    "Remember that a `DataFrame` has the ability to contain multiple data types of [`dtypes`](https://pandas.pydata.org/pandas-docs/stable/basics.html#basics-dtypes).\n",
    "\n",
    "You can use the `DataFrame.dtypes` to see the `dtype` of each column."
   ]
  },
  {
   "cell_type": "code",
   "execution_count": 8,
   "metadata": {},
   "outputs": [
    {
     "data": {
      "text/plain": [
       "first_name         object\n",
       "last_name          object\n",
       "email              object\n",
       "email_verified       bool\n",
       "signup_date        object\n",
       "referral_count      int64\n",
       "balance           float64\n",
       "dtype: object"
      ]
     },
     "execution_count": 8,
     "metadata": {},
     "output_type": "execute_result"
    }
   ],
   "source": [
    "users.dtypes"
   ]
  },
  {
   "cell_type": "markdown",
   "metadata": {},
   "source": [
    "As you can see, most of the data types of these columns where inferred, or assumed, correctly.  See how automatically **`email_verified`** is `bool`, **`referral_count`** is an integer, and **`balance`** a float. This happened when we used `pd.read_csv`. \n",
    "\n",
    "One thing to note though that the **`signup_date`** field is an `object` and not a `datetime`. You can convert these druing or after import if you need to, and we'll do some of that later in this course."
   ]
  },
  {
   "cell_type": "markdown",
   "metadata": {},
   "source": [
    "#### Describe your data\n",
    "The `DataFrame.describe` method is a great way to get a vibe for all numeric data in your data frame.  You'll see lot's of different aggregations."
   ]
  },
  {
   "cell_type": "code",
   "execution_count": 9,
   "metadata": {},
   "outputs": [
    {
     "data": {
      "text/html": [
       "<div>\n",
       "<style scoped>\n",
       "    .dataframe tbody tr th:only-of-type {\n",
       "        vertical-align: middle;\n",
       "    }\n",
       "\n",
       "    .dataframe tbody tr th {\n",
       "        vertical-align: top;\n",
       "    }\n",
       "\n",
       "    .dataframe thead th {\n",
       "        text-align: right;\n",
       "    }\n",
       "</style>\n",
       "<table border=\"1\" class=\"dataframe\">\n",
       "  <thead>\n",
       "    <tr style=\"text-align: right;\">\n",
       "      <th></th>\n",
       "      <th>referral_count</th>\n",
       "      <th>balance</th>\n",
       "    </tr>\n",
       "  </thead>\n",
       "  <tbody>\n",
       "    <tr>\n",
       "      <th>count</th>\n",
       "      <td>453.000000</td>\n",
       "      <td>453.000000</td>\n",
       "    </tr>\n",
       "    <tr>\n",
       "      <th>mean</th>\n",
       "      <td>3.551876</td>\n",
       "      <td>52.051545</td>\n",
       "    </tr>\n",
       "    <tr>\n",
       "      <th>std</th>\n",
       "      <td>2.352757</td>\n",
       "      <td>29.378042</td>\n",
       "    </tr>\n",
       "    <tr>\n",
       "      <th>min</th>\n",
       "      <td>0.000000</td>\n",
       "      <td>0.810000</td>\n",
       "    </tr>\n",
       "    <tr>\n",
       "      <th>25%</th>\n",
       "      <td>1.000000</td>\n",
       "      <td>26.150000</td>\n",
       "    </tr>\n",
       "    <tr>\n",
       "      <th>50%</th>\n",
       "      <td>4.000000</td>\n",
       "      <td>52.080000</td>\n",
       "    </tr>\n",
       "    <tr>\n",
       "      <th>75%</th>\n",
       "      <td>6.000000</td>\n",
       "      <td>78.430000</td>\n",
       "    </tr>\n",
       "    <tr>\n",
       "      <th>max</th>\n",
       "      <td>7.000000</td>\n",
       "      <td>99.980000</td>\n",
       "    </tr>\n",
       "  </tbody>\n",
       "</table>\n",
       "</div>"
      ],
      "text/plain": [
       "       referral_count     balance\n",
       "count      453.000000  453.000000\n",
       "mean         3.551876   52.051545\n",
       "std          2.352757   29.378042\n",
       "min          0.000000    0.810000\n",
       "25%          1.000000   26.150000\n",
       "50%          4.000000   52.080000\n",
       "75%          6.000000   78.430000\n",
       "max          7.000000   99.980000"
      ]
     },
     "execution_count": 9,
     "metadata": {},
     "output_type": "execute_result"
    }
   ],
   "source": [
    "users.describe()"
   ]
  },
  {
   "cell_type": "markdown",
   "metadata": {},
   "source": [
    "Most of these aggregations are available by themselves as well"
   ]
  },
  {
   "cell_type": "code",
   "execution_count": 10,
   "metadata": {},
   "outputs": [
    {
     "data": {
      "text/plain": [
       "email_verified     0.818985\n",
       "referral_count     3.551876\n",
       "balance           52.051545\n",
       "dtype: float64"
      ]
     },
     "execution_count": 10,
     "metadata": {},
     "output_type": "execute_result"
    }
   ],
   "source": [
    "# The mean or average\n",
    "users.mean()"
   ]
  },
  {
   "cell_type": "code",
   "execution_count": 11,
   "metadata": {},
   "outputs": [
    {
     "data": {
      "text/plain": [
       "email_verified     0.385457\n",
       "referral_count     2.352757\n",
       "balance           29.378042\n",
       "dtype: float64"
      ]
     },
     "execution_count": 11,
     "metadata": {},
     "output_type": "execute_result"
    }
   ],
   "source": [
    "# Standard deviation\n",
    "users.std()"
   ]
  },
  {
   "cell_type": "code",
   "execution_count": 12,
   "metadata": {},
   "outputs": [
    {
     "data": {
      "text/plain": [
       "first_name                  Aaron\n",
       "email             aaron@gmail.com\n",
       "email_verified              False\n",
       "signup_date            2018-01-01\n",
       "referral_count                  0\n",
       "balance                      0.81\n",
       "dtype: object"
      ]
     },
     "execution_count": 12,
     "metadata": {},
     "output_type": "execute_result"
    }
   ],
   "source": [
    "# The minimum of each column\n",
    "users.min()"
   ]
  },
  {
   "cell_type": "code",
   "execution_count": 13,
   "metadata": {},
   "outputs": [
    {
     "data": {
      "text/plain": [
       "first_name                    Zachary\n",
       "email             zachary@hotmail.com\n",
       "email_verified                   True\n",
       "signup_date                2018-09-13\n",
       "referral_count                      7\n",
       "balance                         99.98\n",
       "dtype: object"
      ]
     },
     "execution_count": 13,
     "metadata": {},
     "output_type": "execute_result"
    }
   ],
   "source": [
    "# The maximum of each column\n",
    "users.max()"
   ]
  },
  {
   "cell_type": "markdown",
   "metadata": {},
   "source": [
    "### Rearrange your data\n",
    "You can create a new `DataFrame` that is sorted by using the [`sort_values`](https://pandas.pydata.org/pandas-docs/stable/generated/pandas.DataFrame.sort_values.html) method.\n",
    "\n",
    "Let's sort the DataFrame so that the user with the highest **`balance`** is at the top. By default, ascending order is assumend, you can change that by setting the `ascending` keyword argument to `False`."
   ]
  },
  {
   "cell_type": "code",
   "execution_count": 14,
   "metadata": {},
   "outputs": [
    {
     "data": {
      "text/html": [
       "<div>\n",
       "<style scoped>\n",
       "    .dataframe tbody tr th:only-of-type {\n",
       "        vertical-align: middle;\n",
       "    }\n",
       "\n",
       "    .dataframe tbody tr th {\n",
       "        vertical-align: top;\n",
       "    }\n",
       "\n",
       "    .dataframe thead th {\n",
       "        text-align: right;\n",
       "    }\n",
       "</style>\n",
       "<table border=\"1\" class=\"dataframe\">\n",
       "  <thead>\n",
       "    <tr style=\"text-align: right;\">\n",
       "      <th></th>\n",
       "      <th>first_name</th>\n",
       "      <th>last_name</th>\n",
       "      <th>email</th>\n",
       "      <th>email_verified</th>\n",
       "      <th>signup_date</th>\n",
       "      <th>referral_count</th>\n",
       "      <th>balance</th>\n",
       "    </tr>\n",
       "  </thead>\n",
       "  <tbody>\n",
       "    <tr>\n",
       "      <th>molly</th>\n",
       "      <td>Molly</td>\n",
       "      <td>NaN</td>\n",
       "      <td>molly@gmail.com</td>\n",
       "      <td>True</td>\n",
       "      <td>2018-07-24</td>\n",
       "      <td>6</td>\n",
       "      <td>99.98</td>\n",
       "    </tr>\n",
       "    <tr>\n",
       "      <th>gwarren</th>\n",
       "      <td>Glenn</td>\n",
       "      <td>Warren</td>\n",
       "      <td>glenn@hotmail.com</td>\n",
       "      <td>True</td>\n",
       "      <td>2018-02-03</td>\n",
       "      <td>2</td>\n",
       "      <td>99.79</td>\n",
       "    </tr>\n",
       "    <tr>\n",
       "      <th>andre.andersonandre5554</th>\n",
       "      <td>Andre</td>\n",
       "      <td>Anderson</td>\n",
       "      <td>andre.andersonandre1731@yahoo.com</td>\n",
       "      <td>True</td>\n",
       "      <td>2018-01-24</td>\n",
       "      <td>1</td>\n",
       "      <td>99.66</td>\n",
       "    </tr>\n",
       "    <tr>\n",
       "      <th>kevin</th>\n",
       "      <td>Kevin</td>\n",
       "      <td>NaN</td>\n",
       "      <td>kevin@gmail.com</td>\n",
       "      <td>True</td>\n",
       "      <td>2018-02-17</td>\n",
       "      <td>7</td>\n",
       "      <td>99.28</td>\n",
       "    </tr>\n",
       "    <tr>\n",
       "      <th>jesse</th>\n",
       "      <td>Jesse</td>\n",
       "      <td>Rodriguez</td>\n",
       "      <td>jesse.rodriguezjesse7790@yahoo.com</td>\n",
       "      <td>True</td>\n",
       "      <td>2018-07-14</td>\n",
       "      <td>4</td>\n",
       "      <td>99.04</td>\n",
       "    </tr>\n",
       "  </tbody>\n",
       "</table>\n",
       "</div>"
      ],
      "text/plain": [
       "                        first_name  last_name  \\\n",
       "molly                        Molly        NaN   \n",
       "gwarren                      Glenn     Warren   \n",
       "andre.andersonandre5554      Andre   Anderson   \n",
       "kevin                        Kevin        NaN   \n",
       "jesse                        Jesse  Rodriguez   \n",
       "\n",
       "                                                      email  email_verified  \\\n",
       "molly                                       molly@gmail.com            True   \n",
       "gwarren                                   glenn@hotmail.com            True   \n",
       "andre.andersonandre5554   andre.andersonandre1731@yahoo.com            True   \n",
       "kevin                                       kevin@gmail.com            True   \n",
       "jesse                    jesse.rodriguezjesse7790@yahoo.com            True   \n",
       "\n",
       "                        signup_date  referral_count  balance  \n",
       "molly                    2018-07-24               6    99.98  \n",
       "gwarren                  2018-02-03               2    99.79  \n",
       "andre.andersonandre5554  2018-01-24               1    99.66  \n",
       "kevin                    2018-02-17               7    99.28  \n",
       "jesse                    2018-07-14               4    99.04  "
      ]
     },
     "execution_count": 14,
     "metadata": {},
     "output_type": "execute_result"
    }
   ],
   "source": [
    "users.sort_values(by='balance', ascending=False).head()"
   ]
  },
  {
   "cell_type": "markdown",
   "metadata": {},
   "source": [
    "You'll notice that `sort_values` call actually created a new `DataFrame`. If you want to permanently change the sort from the default (sorted by index), you can pass `True` as an argument to the `inplace` keyword parameter."
   ]
  },
  {
   "cell_type": "code",
   "execution_count": 15,
   "metadata": {},
   "outputs": [
    {
     "data": {
      "text/html": [
       "<div>\n",
       "<style scoped>\n",
       "    .dataframe tbody tr th:only-of-type {\n",
       "        vertical-align: middle;\n",
       "    }\n",
       "\n",
       "    .dataframe tbody tr th {\n",
       "        vertical-align: top;\n",
       "    }\n",
       "\n",
       "    .dataframe thead th {\n",
       "        text-align: right;\n",
       "    }\n",
       "</style>\n",
       "<table border=\"1\" class=\"dataframe\">\n",
       "  <thead>\n",
       "    <tr style=\"text-align: right;\">\n",
       "      <th></th>\n",
       "      <th>first_name</th>\n",
       "      <th>last_name</th>\n",
       "      <th>email</th>\n",
       "      <th>email_verified</th>\n",
       "      <th>signup_date</th>\n",
       "      <th>referral_count</th>\n",
       "      <th>balance</th>\n",
       "    </tr>\n",
       "  </thead>\n",
       "  <tbody>\n",
       "    <tr>\n",
       "      <th>kenneth.adamskenneth6481</th>\n",
       "      <td>Kenneth</td>\n",
       "      <td>Adams</td>\n",
       "      <td>adams4272@yahoo.com</td>\n",
       "      <td>True</td>\n",
       "      <td>2018-07-20</td>\n",
       "      <td>0</td>\n",
       "      <td>77.97</td>\n",
       "    </tr>\n",
       "    <tr>\n",
       "      <th>aguilar</th>\n",
       "      <td>Caitlin</td>\n",
       "      <td>Aguilar</td>\n",
       "      <td>aguilar9306@hotmail.com</td>\n",
       "      <td>False</td>\n",
       "      <td>2018-02-22</td>\n",
       "      <td>4</td>\n",
       "      <td>41.58</td>\n",
       "    </tr>\n",
       "    <tr>\n",
       "      <th>christina.aguilarchristina5698</th>\n",
       "      <td>Christina</td>\n",
       "      <td>Aguilar</td>\n",
       "      <td>christina.aguilarchristina3925@yahoo.com</td>\n",
       "      <td>False</td>\n",
       "      <td>2018-04-29</td>\n",
       "      <td>0</td>\n",
       "      <td>94.11</td>\n",
       "    </tr>\n",
       "    <tr>\n",
       "      <th>daguilar</th>\n",
       "      <td>Daniel</td>\n",
       "      <td>Aguilar</td>\n",
       "      <td>daguilar@hotmail.com</td>\n",
       "      <td>True</td>\n",
       "      <td>2018-01-08</td>\n",
       "      <td>3</td>\n",
       "      <td>76.78</td>\n",
       "    </tr>\n",
       "    <tr>\n",
       "      <th>jaguirre</th>\n",
       "      <td>John</td>\n",
       "      <td>Aguirre</td>\n",
       "      <td>jaguirre@hotmail.com</td>\n",
       "      <td>True</td>\n",
       "      <td>2018-03-10</td>\n",
       "      <td>0</td>\n",
       "      <td>73.86</td>\n",
       "    </tr>\n",
       "  </tbody>\n",
       "</table>\n",
       "</div>"
      ],
      "text/plain": [
       "                               first_name last_name  \\\n",
       "kenneth.adamskenneth6481          Kenneth     Adams   \n",
       "aguilar                           Caitlin   Aguilar   \n",
       "christina.aguilarchristina5698  Christina   Aguilar   \n",
       "daguilar                           Daniel   Aguilar   \n",
       "jaguirre                             John   Aguirre   \n",
       "\n",
       "                                                                   email  \\\n",
       "kenneth.adamskenneth6481                             adams4272@yahoo.com   \n",
       "aguilar                                          aguilar9306@hotmail.com   \n",
       "christina.aguilarchristina5698  christina.aguilarchristina3925@yahoo.com   \n",
       "daguilar                                            daguilar@hotmail.com   \n",
       "jaguirre                                            jaguirre@hotmail.com   \n",
       "\n",
       "                                email_verified signup_date  referral_count  \\\n",
       "kenneth.adamskenneth6481                  True  2018-07-20               0   \n",
       "aguilar                                  False  2018-02-22               4   \n",
       "christina.aguilarchristina5698           False  2018-04-29               0   \n",
       "daguilar                                  True  2018-01-08               3   \n",
       "jaguirre                                  True  2018-03-10               0   \n",
       "\n",
       "                                balance  \n",
       "kenneth.adamskenneth6481          77.97  \n",
       "aguilar                           41.58  \n",
       "christina.aguilarchristina5698    94.11  \n",
       "daguilar                          76.78  \n",
       "jaguirre                          73.86  "
      ]
     },
     "execution_count": 15,
     "metadata": {},
     "output_type": "execute_result"
    }
   ],
   "source": [
    "# Sort first by last_name and then first_name. By default, np.nan show up at the end\n",
    "users.sort_values(by=['last_name', 'first_name'], inplace=True)\n",
    "# Sort order is now changed\n",
    "users.head()"
   ]
  },
  {
   "cell_type": "markdown",
   "metadata": {},
   "source": [
    "And if you want to sort by the index, like it was originally, you can use the `sort_index` method."
   ]
  },
  {
   "cell_type": "code",
   "execution_count": 16,
   "metadata": {},
   "outputs": [
    {
     "data": {
      "text/html": [
       "<div>\n",
       "<style scoped>\n",
       "    .dataframe tbody tr th:only-of-type {\n",
       "        vertical-align: middle;\n",
       "    }\n",
       "\n",
       "    .dataframe tbody tr th {\n",
       "        vertical-align: top;\n",
       "    }\n",
       "\n",
       "    .dataframe thead th {\n",
       "        text-align: right;\n",
       "    }\n",
       "</style>\n",
       "<table border=\"1\" class=\"dataframe\">\n",
       "  <thead>\n",
       "    <tr style=\"text-align: right;\">\n",
       "      <th></th>\n",
       "      <th>first_name</th>\n",
       "      <th>last_name</th>\n",
       "      <th>email</th>\n",
       "      <th>email_verified</th>\n",
       "      <th>signup_date</th>\n",
       "      <th>referral_count</th>\n",
       "      <th>balance</th>\n",
       "    </tr>\n",
       "  </thead>\n",
       "  <tbody>\n",
       "    <tr>\n",
       "      <th>aalexander</th>\n",
       "      <td>Adam</td>\n",
       "      <td>Alexander</td>\n",
       "      <td>alexander@gmail.com</td>\n",
       "      <td>True</td>\n",
       "      <td>2018-08-22</td>\n",
       "      <td>0</td>\n",
       "      <td>31.68</td>\n",
       "    </tr>\n",
       "    <tr>\n",
       "      <th>aaron.grimesaaron3543</th>\n",
       "      <td>Aaron</td>\n",
       "      <td>Grimes</td>\n",
       "      <td>aaron@gmail.com</td>\n",
       "      <td>True</td>\n",
       "      <td>2018-06-18</td>\n",
       "      <td>7</td>\n",
       "      <td>53.30</td>\n",
       "    </tr>\n",
       "    <tr>\n",
       "      <th>aaron.vargasaaron772</th>\n",
       "      <td>Aaron</td>\n",
       "      <td>Vargas</td>\n",
       "      <td>aaron@hotmail.com</td>\n",
       "      <td>False</td>\n",
       "      <td>2018-04-26</td>\n",
       "      <td>7</td>\n",
       "      <td>95.80</td>\n",
       "    </tr>\n",
       "    <tr>\n",
       "      <th>adam</th>\n",
       "      <td>Adam</td>\n",
       "      <td>Roberts</td>\n",
       "      <td>adam@gmail.com</td>\n",
       "      <td>True</td>\n",
       "      <td>2018-07-13</td>\n",
       "      <td>5</td>\n",
       "      <td>35.07</td>\n",
       "    </tr>\n",
       "    <tr>\n",
       "      <th>agregory</th>\n",
       "      <td>Anthony</td>\n",
       "      <td>Gregory</td>\n",
       "      <td>gregory4121@yahoo.com</td>\n",
       "      <td>True</td>\n",
       "      <td>2018-01-16</td>\n",
       "      <td>2</td>\n",
       "      <td>97.00</td>\n",
       "    </tr>\n",
       "  </tbody>\n",
       "</table>\n",
       "</div>"
      ],
      "text/plain": [
       "                      first_name  last_name                  email  \\\n",
       "aalexander                  Adam  Alexander    alexander@gmail.com   \n",
       "aaron.grimesaaron3543      Aaron     Grimes        aaron@gmail.com   \n",
       "aaron.vargasaaron772       Aaron     Vargas      aaron@hotmail.com   \n",
       "adam                        Adam    Roberts         adam@gmail.com   \n",
       "agregory                 Anthony    Gregory  gregory4121@yahoo.com   \n",
       "\n",
       "                       email_verified signup_date  referral_count  balance  \n",
       "aalexander                       True  2018-08-22               0    31.68  \n",
       "aaron.grimesaaron3543            True  2018-06-18               7    53.30  \n",
       "aaron.vargasaaron772            False  2018-04-26               7    95.80  \n",
       "adam                             True  2018-07-13               5    35.07  \n",
       "agregory                         True  2018-01-16               2    97.00  "
      ]
     },
     "execution_count": 16,
     "metadata": {},
     "output_type": "execute_result"
    }
   ],
   "source": [
    "users.sort_index(inplace=True)\n",
    "users.head()"
   ]
  }
 ],
 "metadata": {
  "kernelspec": {
   "display_name": "Python 3",
   "language": "python",
   "name": "python3"
  },
  "language_info": {
   "codemirror_mode": {
    "name": "ipython",
    "version": 3
   },
   "file_extension": ".py",
   "mimetype": "text/x-python",
   "name": "python",
   "nbconvert_exporter": "python",
   "pygments_lexer": "ipython3",
   "version": "3.7.0"
  }
 },
 "nbformat": 4,
 "nbformat_minor": 2
}
